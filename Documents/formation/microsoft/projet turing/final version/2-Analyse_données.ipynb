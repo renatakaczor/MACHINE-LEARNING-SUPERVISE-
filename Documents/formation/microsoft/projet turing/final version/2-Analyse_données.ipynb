{
 "cells": [
  {
   "cell_type": "markdown",
   "metadata": {},
   "source": [
    "# 2-Analyse des données\n",
    "\n",
    "## 2.1. Librairies utiles"
   ]
  },
  {
   "cell_type": "code",
   "execution_count": 1,
   "metadata": {},
   "outputs": [],
   "source": [
    "import numpy as np\n",
    "import matplotlib.pyplot as plt\n",
    "import pandas as pd\n",
    "import seaborn as sns\n",
    "import re\n",
    "\n",
    "from collections import Counter\n",
    "\n",
    "import itertools as it\n",
    "\n",
    "import nltk as nltk\n",
    "from nltk.corpus import stopwords\n",
    "from nltk.tokenize import word_tokenize\n",
    "from nltk import PorterStemmer\n",
    "from nltk.stem import WordNetLemmatizer\n",
    "\n",
    "from unicodedata import normalize\n",
    "\n",
    "from sklearn.feature_extraction.text import CountVectorizer"
   ]
  },
  {
   "cell_type": "markdown",
   "metadata": {},
   "source": [
    "## 2.2. Description dataset"
   ]
  },
  {
   "cell_type": "code",
   "execution_count": 2,
   "metadata": {},
   "outputs": [
    {
     "name": "stdout",
     "output_type": "stream",
     "text": [
      "(11141, 3)\n"
     ]
    },
    {
     "data": {
      "image/png": "[encoded data removed]",
      "text/plain": [
       "<Figure size 432x288 with 1 Axes>"
      ]
     },
     "metadata": {},
     "output_type": "display_data"
    }
   ],
   "source": [
    "# r = pd.read_csv('scrap.csv')[['hotel','commentaire','note']]\n",
    "# reviews = pd.concat([reviews,r])\n",
    "# reviews.to_csv('reviews.csv',index=False)\n",
    "\n",
    "reviews = pd.read_csv('reviews.csv')\n",
    "print(reviews.shape)\n",
    "l=range(10,60,10)\n",
    "plt.pie([reviews.note.value_counts()[i] for i in l],labels=l,autopct='%1.1f%%')\n",
    "plt.show()\n",
    "# Si count<5% ajouter des data"
   ]
  },
  {
   "cell_type": "markdown",
   "metadata": {},
   "source": [
    "## 2.3. Analyse des valeurs manquantes"
   ]
  },
  {
   "cell_type": "code",
   "execution_count": 3,
   "metadata": {},
   "outputs": [
    {
     "name": "stdout",
     "output_type": "stream",
     "text": [
      "hotel          0\n",
      "commentaire    0\n",
      "note           0\n",
      "dtype: int64 \n",
      " hotel          0.0\n",
      "commentaire    0.0\n",
      "note           0.0\n",
      "dtype: float64\n"
     ]
    },
    {
     "data": {
      "image/png": "[encoded data removed]",
      "text/plain": [
       "<Figure size 432x288 with 1 Axes>"
      ]
     },
     "metadata": {
      "needs_background": "light"
     },
     "output_type": "display_data"
    }
   ],
   "source": [
    "na = reviews.isnull().sum()\n",
    "nap = na/len(reviews)\n",
    "print(na,'\\n',nap)\n",
    "sns.heatmap(reviews.isna(),cbar=False)\n",
    "plt.show()\n",
    "#reviews.drop(reviews.columns[nan],axis=1,inplace=True)"
   ]
  },
  {
   "cell_type": "markdown",
   "metadata": {},
   "source": [
    "## 2.4. Analyse des données"
   ]
  },
  {
   "cell_type": "code",
   "execution_count": 4,
   "metadata": {},
   "outputs": [
    {
     "data": {
      "image/png": "[encoded data removed]",
      "text/plain": [
       "<Figure size 432x288 with 1 Axes>"
      ]
     },
     "metadata": {
      "needs_background": "light"
     },
     "output_type": "display_data"
    }
   ],
   "source": [
    "freq = pd.DataFrame(Counter(' '.join(reviews['commentaire']).split()).most_common(20))\n",
    "plt.bar(freq[0],freq[1])\n",
    "plt.show()\n",
    "# mots fréquents = mots de liaison sans intérêt -> traitement pour les enlever"
   ]
  },
  {
   "cell_type": "markdown",
   "metadata": {},
   "source": [
    "## 2.5. Traitement des données\n",
    "\n",
    "### 2.5.1. Target Y : notes\n"
   ]
  },
  {
   "cell_type": "code",
   "execution_count": 5,
   "metadata": {},
   "outputs": [],
   "source": [
    "reviews.note = reviews.note.map({50:1,40:1,30:0,20:0,10:0})"
   ]
  },
  {
   "cell_type": "markdown",
   "metadata": {},
   "source": [
    "### 2.5.2. X : Commentaires\n",
    "\n",
    "Il s'agit d'enlever les ponctuations et mots de liaison inutiles."
   ]
  },
  {
   "cell_type": "code",
   "execution_count": 6,
   "metadata": {},
   "outputs": [],
   "source": [
    "contraction_map = {\n",
    "\"ain't\": \"is not\",\n",
    "\"aren't\": \"are not\",\n",
    "\"can't\": \"cannot\",\n",
    "\"can't've\": \"cannot have\",\n",
    "\"'cause\": \"because\",\n",
    "\"could've\": \"could have\",\n",
    "\"couldn't\": \"could not\",\n",
    "\"couldn't've\": \"could not have\",\n",
    "\"didn't\": \"did not\",\n",
    "\"doesn't\": \"does not\",\n",
    "\"don't\": \"do not\",\n",
    "\"hadn't\": \"had not\",\n",
    "\"hadn't've\": \"had not have\",\n",
    "\"hasn't\": \"has not\",\n",
    "\"haven't\": \"have not\",\n",
    "\"he'd\": \"he would\",\n",
    "\"he'd've\": \"he would have\",\n",
    "\"he'll\": \"he will\",\n",
    "\"he'll've\": \"he he will have\",\n",
    "\"he's\": \"he is\",\n",
    "\"how'd\": \"how did\",\n",
    "\"how'd'y\": \"how do you\",\n",
    "\"how'll\": \"how will\",\n",
    "\"how's\": \"how is\",\n",
    "\"I'd\": \"I would\",\n",
    "\"I'd've\": \"I would have\",\n",
    "\"I'll\": \"I will\",\n",
    "\"I'll've\": \"I will have\",\n",
    "\"I'm\": \"I am\",\n",
    "\"I've\": \"I have\",\n",
    "\"i'd\": \"i would\",\n",
    "\"i'd've\": \"i would have\",\n",
    "\"i'll\": \"i will\",\n",
    "\"i'll've\": \"i will have\",\n",
    "\"i'm\": \"i am\",\n",
    "\"i've\": \"i have\",\n",
    "\"isn't\": \"is not\",\n",
    "\"it'd\": \"it would\",\n",
    "\"it'd've\": \"it would have\",\n",
    "\"it'll\": \"it will\",\n",
    "\"it'll've\": \"it will have\",\n",
    "\"it's\": \"it is\",\n",
    "\"let's\": \"let us\",\n",
    "\"ma'am\": \"madam\",\n",
    "\"mayn't\": \"may not\",\n",
    "\"might've\": \"might have\",\n",
    "\"mightn't\": \"might not\",\n",
    "\"mightn't've\": \"might not have\",\n",
    "\"must've\": \"must have\",\n",
    "\"mustn't\": \"must not\",\n",
    "\"mustn't've\": \"must not have\",\n",
    "\"needn't\": \"need not\",\n",
    "\"needn't've\": \"need not have\",\n",
    "\"o'clock\": \"of the clock\",\n",
    "\"oughtn't\": \"ought not\",\n",
    "\"oughtn't've\": \"ought not have\",\n",
    "\"shan't\": \"shall not\",\n",
    "\"sha'n't\": \"shall not\",\n",
    "\"shan't've\": \"shall not have\",\n",
    "\"she'd\": \"she would\",\n",
    "\"she'd've\": \"she would have\",\n",
    "\"she'll\": \"she will\",\n",
    "\"she'll've\": \"she will have\",\n",
    "\"she's\": \"she is\",\n",
    "\"should've\": \"should have\",\n",
    "\"shouldn't\": \"should not\",\n",
    "\"shouldn't've\": \"should not have\",\n",
    "\"so've\": \"so have\",\n",
    "\"so's\": \"so as\",\n",
    "\"that'd\": \"that would\",\n",
    "\"that'd've\": \"that would have\",\n",
    "\"that's\": \"that is\",\n",
    "\"there'd\": \"there would\",\n",
    "\"there'd've\": \"there would have\",\n",
    "\"there's\": \"there is\",\n",
    "\"they'd\": \"they would\",\n",
    "\"they'd've\": \"they would have\",\n",
    "\"they'll\": \"they will\",\n",
    "\"they'll've\": \"they will have\",\n",
    "\"they're\": \"they are\",\n",
    "\"they've\": \"they have\",\n",
    "\"to've\": \"to have\",\n",
    "\"wasn't\": \"was not\",\n",
    "\"we'd\": \"we would\",\n",
    "\"we'd've\": \"we would have\",\n",
    "\"we'll\": \"we will\",\n",
    "\"we'll've\": \"we will have\",\n",
    "\"we're\": \"we are\",\n",
    "\"we've\": \"we have\",\n",
    "\"weren't\": \"were not\",\n",
    "\"what'll\": \"what will\",\n",
    "\"what'll've\": \"what will have\",\n",
    "\"what're\": \"what are\",\n",
    "\"what's\": \"what is\",\n",
    "\"what've\": \"what have\",\n",
    "\"when's\": \"when is\",\n",
    "\"when've\": \"when have\",\n",
    "\"where'd\": \"where did\",\n",
    "\"where's\": \"where is\",\n",
    "\"where've\": \"where have\",\n",
    "\"who'll\": \"who will\",\n",
    "\"who'll've\": \"who will have\",\n",
    "\"who's\": \"who is\",\n",
    "\"who've\": \"who have\",\n",
    "\"why's\": \"why is\",\n",
    "\"why've\": \"why have\",\n",
    "\"will've\": \"will have\",\n",
    "\"won't\": \"will not\",\n",
    "\"won't've\": \"will not have\",\n",
    "\"would've\": \"would have\",\n",
    "\"wouldn't\": \"would not\",\n",
    "\"wouldn't've\": \"would not have\",\n",
    "\"y'all\": \"you all\",\n",
    "\"y'all'd\": \"you all would\",\n",
    "\"y'all'd've\": \"you all would have\",\n",
    "\"y'all're\": \"you all are\",\n",
    "\"y'all've\": \"you all have\",\n",
    "\"you'd\": \"you would\",\n",
    "\"you'd've\": \"you would have\",\n",
    "\"you'll\": \"you will\",\n",
    "\"you'll've\": \"you will have\",\n",
    "\"you're\": \"you are\",\n",
    "\"you've\": \"you have\"\n",
    "}"
   ]
  },
  {
   "cell_type": "code",
   "execution_count": 10,
   "metadata": {},
   "outputs": [],
   "source": [
    "def preprocess(text,mapping=contraction_map):\n",
    "    # Extension\n",
    "    #contractions_pattern = re.compile('({})'.format('|'.join(mapping.keys())),flags=re.IGNORECASE|re.DOTALL)\n",
    "    #def expand_match(t):\n",
    "    #    match = t.group(0)\n",
    "    #    t = mapping.get(match)\\\n",
    "    #            if mapping.get(match)\\\n",
    "    #            else mapping.get(match.lower())                       \n",
    "    #    t = match[0] + t[1:]\n",
    "    #    return t\n",
    "    #text = contractions_pattern.sub(expand_match, text)\n",
    "    #text = re.sub(\"'\", \"\", text)\n",
    "    # Enlever nombres et caractères spéciaux\n",
    "    pattern = r'[^a-zA-z\\s]'\n",
    "    text = re.sub(pattern, '', text).lower()\n",
    "    # Enlever accents\n",
    "    text = normalize('NFKD', text).encode('ascii', 'ignore').decode('utf-8', 'ignore')\n",
    "    # Stemmer\n",
    "    text = ' '.join([PorterStemmer().stem(mot) for mot in word_tokenize(text)])\n",
    "    # Lemmetize\n",
    "    text = ' '.join([WordNetLemmatizer.lemmatize(1,mot) for mot in word_tokenize(text)])\n",
    "    # Enlever ponctuation\n",
    "    ponc = '[]\\^_'\n",
    "    textp = ''\n",
    "    for mot in word_tokenize(text):\n",
    "        if mot not in ponc and mot not in stopwords.words('french'):\n",
    "            textp += mot + ' '\n",
    "    return textp"
   ]
  },
  {
   "cell_type": "code",
   "execution_count": null,
   "metadata": {},
   "outputs": [],
   "source": [
    "reviews[\"commentaire\"] = reviews[\"commentaire\"].apply(preprocess)"
   ]
  },
  {
   "cell_type": "markdown",
   "metadata": {},
   "source": [
    "## 2.6 Analyse 2"
   ]
  },
  {
   "cell_type": "code",
   "execution_count": 33,
   "metadata": {},
   "outputs": [
    {
     "name": "stdout",
     "output_type": "stream",
     "text": [
      "            0      1\n",
      "0        très  12357\n",
      "1     chambre   7621\n",
      "2           a   6796\n",
      "3   personnel   5409\n",
      "4       petit   5273\n",
      "5        bien   5218\n",
      "6       hôtel   4954\n",
      "7     l'hôtel   4548\n",
      "8         cet   4024\n",
      "9        tout   3423\n",
      "10          !   3301\n",
      "11   chambres   3173\n",
      "12      c'est   3006\n",
      "13   déjeuner   2978\n",
      "14       plus   2850\n",
      "15        bon   2809\n",
      "16       j'ai   2764\n",
      "17          ã   2335\n",
      "18      paris   2282\n",
      "19      salle   2263\n"
     ]
    },
    {
     "data": {
      "image/png": "[encoded data removed]",
      "text/plain": [
       "<Figure size 432x288 with 1 Axes>"
      ]
     },
     "metadata": {
      "needs_background": "light"
     },
     "output_type": "display_data"
    },
    {
     "name": "stdout",
     "output_type": "stream",
     "text": [
      "            0     1\n",
      "0     chambre  1959\n",
      "1           a  1520\n",
      "2        très  1493\n",
      "3       hôtel   872\n",
      "4        bien   843\n",
      "5       petit   842\n",
      "6        plus   756\n",
      "7     l'hôtel   754\n",
      "8           ã   744\n",
      "9         cet   730\n",
      "10      c'est   718\n",
      "11  personnel   706\n",
      "12       j'ai   668\n",
      "13   chambres   633\n",
      "14       tout   554\n",
      "15         si   542\n",
      "16      salle   532\n",
      "17        peu   480\n",
      "18          !   477\n",
      "19   déjeuner   420\n"
     ]
    },
    {
     "data": {
      "image/png": "[encoded data removed]",
      "text/plain": [
       "<Figure size 432x288 with 1 Axes>"
      ]
     },
     "metadata": {
      "needs_background": "light"
     },
     "output_type": "display_data"
    },
    {
     "name": "stdout",
     "output_type": "stream",
     "text": [
      "            0      1\n",
      "0        très  10864\n",
      "1     chambre   5662\n",
      "2           a   5276\n",
      "3   personnel   4703\n",
      "4       petit   4431\n",
      "5        bien   4375\n",
      "6       hôtel   4082\n",
      "7     l'hôtel   3794\n",
      "8         cet   3294\n",
      "9        tout   2869\n",
      "10          !   2824\n",
      "11   déjeuner   2558\n",
      "12   chambres   2540\n",
      "13        bon   2416\n",
      "14      c'est   2288\n",
      "15       j'ai   2096\n",
      "16       plus   2094\n",
      "17      paris   2023\n",
      "18      salle   1731\n",
      "19          ã   1591\n"
     ]
    },
    {
     "data": {
      "image/png": "[encoded data removed]",
      "text/plain": [
       "<Figure size 432x288 with 1 Axes>"
      ]
     },
     "metadata": {
      "needs_background": "light"
     },
     "output_type": "display_data"
    }
   ],
   "source": [
    "freq = pd.DataFrame(Counter(' '.join(reviews['commentaire']).split()).most_common(20))\n",
    "print(freq)\n",
    "plt.bar(freq[0],freq[1])\n",
    "plt.show()\n",
    "# mots fréquents = mots de liaison sans intérêt -> traitement pour les enlever\n",
    "freqneg = pd.DataFrame(Counter(' '.join(reviews['commentaire'][i] for i in range(len(reviews)) if reviews['note'][i]==0).split()).most_common(20))\n",
    "print(freqneg)\n",
    "plt.bar(freqneg[0],freqneg[1])\n",
    "plt.show()\n",
    "#3\n",
    "freqpos = pd.DataFrame(Counter(' '.join(reviews['commentaire'][i] for i in range(len(reviews)) if reviews['note'][i]==1).split()).most_common(20))\n",
    "print(freqpos)\n",
    "plt.bar(freqpos[0],freqpos[1])\n",
    "plt.show()"
   ]
  },
  {
   "cell_type": "markdown",
   "metadata": {},
   "source": [
    "## Reviews preprocess"
   ]
  },
  {
   "cell_type": "code",
   "execution_count": 29,
   "metadata": {},
   "outputs": [],
   "source": [
    "reviews.to_csv('reviewsp.csv',index=False)"
   ]
  }
 ],
 "metadata": {
  "kernelspec": {
   "display_name": "Python 3",
   "language": "python",
   "name": "python3"
  },
  "language_info": {
   "codemirror_mode": {
    "name": "ipython",
    "version": 3
   },
   "file_extension": ".py",
   "mimetype": "text/x-python",
   "name": "python",
   "nbconvert_exporter": "python",
   "pygments_lexer": "ipython3",
   "version": "3.7.6"
  }
 },
 "nbformat": 4,
 "nbformat_minor": 4
}
