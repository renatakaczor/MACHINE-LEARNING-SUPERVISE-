{
 "cells": [
  {
   "cell_type": "markdown",
   "metadata": {
    "_cell_guid": "de05512e-6991-44df-9599-da92a7e459ac",
    "_uuid": "d8bdd5f0320e244e4702ed8ec1c2482b022c51cd"
   },
   "source": [
    "# 3-Modèle\n",
    "\n",
    "Méthode utilisée : SVM SVC"
   ]
  },
  {
   "cell_type": "code",
   "execution_count": 4,
   "metadata": {},
   "outputs": [],
   "source": [
    "import numpy as np\n",
    "import matplotlib.pyplot as plt\n",
    "import pandas as pd\n",
    "import seaborn as sns\n",
    "import re\n",
    "\n",
    "from sklearn import svm\n",
    "from sklearn.pipeline import make_pipeline\n",
    "from sklearn.preprocessing import StandardScaler\n",
    "from sklearn.svm import SVR, NuSVR, LinearSVR, SVC, NuSVC, LinearSVC\n",
    "from sklearn.datasets import make_classification\n",
    "from sklearn.model_selection import train_test_split, GridSearchCV\n",
    "from sklearn.feature_extraction.text import CountVectorizer\n",
    "from sklearn.metrics import classification_report\n",
    "from sklearn.naive_bayes import MultinomialNB\n",
    "\n",
    "from collections import Counter\n",
    "\n",
    "import itertools as it\n",
    "import nltk as nltk\n",
    "from nltk.corpus import stopwords"
   ]
  },
  {
   "cell_type": "code",
   "execution_count": 6,
   "metadata": {},
   "outputs": [],
   "source": [
    "reviews = pd.read_csv('reviewsp.csv')"
   ]
  },
  {
   "cell_type": "code",
   "execution_count": 7,
   "metadata": {},
   "outputs": [
    {
     "name": "stdout",
     "output_type": "stream",
     "text": [
      "(11141, 21044)\n"
     ]
    }
   ],
   "source": [
    "vec = CountVectorizer(stop_words = 'english')\n",
    "'''\n",
    "convert a collection of text documents to a matrix of token counts, sparse representation\n",
    "default number of features = vocabulary size\n",
    "'''\n",
    "\n",
    "X = vec.fit_transform(reviews.commentaire).toarray()\n",
    "\n",
    "print(X.shape)"
   ]
  },
  {
   "cell_type": "markdown",
   "metadata": {},
   "source": [
    "## 3.1. Data splitting"
   ]
  },
  {
   "cell_type": "code",
   "execution_count": 8,
   "metadata": {},
   "outputs": [
    {
     "name": "stdout",
     "output_type": "stream",
     "text": [
      "(7798, 21044) (3343, 21044) (7798,) (3343,)\n"
     ]
    }
   ],
   "source": [
    "y = reviews.note\n",
    "X_train, X_test, Y_train, Y_test = train_test_split(X, y, test_size=0.3,random_state=1,stratify=y)\n",
    "'''\n",
    "test_size pourcentage de lignes testé\n",
    "random_state graine du générateur de nombre aléatoire\n",
    "stratify affecte un label au split stratifié, répartition équitable avec Y\n",
    "'''\n",
    "print(X_train.shape, X_test.shape, Y_train.shape, Y_test.shape)"
   ]
  },
  {
   "cell_type": "markdown",
   "metadata": {
    "_cell_guid": "c833cbf5-74db-44ff-90fa-b600ff0a09d7",
    "_uuid": "39dbc095f99dcec6d25a7a4561e81bb641078622"
   },
   "source": [
    "## 3.2. Modélisation et performances"
   ]
  },
  {
   "cell_type": "code",
   "execution_count": null,
   "metadata": {},
   "outputs": [],
   "source": [
    "#\n",
    "param_grid = {'C':[1,2,3],'kernel':['rbf','sigmoid']}\n",
    "param_grid\n",
    "#\n",
    "gscv = GridSearchCV(\n",
    "    SVC(),\n",
    "    param_grid,\n",
    "    cv = 3) #cv par défaut =5\n",
    "gscv.fit(X_train,Y_train)\n",
    "print(gscv.best_params_,'\\n',gscv.best_score_) #changer les params selon le résultat obtenu, ex réduire C\n",
    "\n",
    "#\n",
    "best_model = gscv.best_estimator_\n",
    "pred_train = best_model.predict(X_train)\n",
    "pred_test = best_model.predict(X_test)\n",
    "print(pred_train,pred_test)\n",
    "\n",
    "#\n",
    "print(classification_report(Y_train,pred_train),'\\n',classification_report(Y_test,pred_test))"
   ]
  }
 ],
 "metadata": {
  "kernelspec": {
   "display_name": "Python 3",
   "language": "python",
   "name": "python3"
  },
  "language_info": {
   "codemirror_mode": {
    "name": "ipython",
    "version": 3
   },
   "file_extension": ".py",
   "mimetype": "text/x-python",
   "name": "python",
   "nbconvert_exporter": "python",
   "pygments_lexer": "ipython3",
   "version": "3.7.6"
  }
 },
 "nbformat": 4,
 "nbformat_minor": 4
}
