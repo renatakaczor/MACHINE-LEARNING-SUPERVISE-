{
 "cells": [
  {
   "cell_type": "code",
   "execution_count": 1,
   "metadata": {},
   "outputs": [],
   "source": [
    "from selenium import webdriver\n",
    "from selenium.webdriver.common.keys import Keys\n",
    "from selenium.webdriver.common.action_chains import ActionChains\n",
    "from selenium.common.exceptions import NoSuchElementException,StaleElementReferenceException,ElementClickInterceptedException\n",
    "import time\n",
    "from datetime import time \n",
    "import time, os\n",
    "\n",
    "\n",
    "import re \n",
    "import numpy as np\n",
    "import pandas as pd\n",
    "\n",
    "\n",
    "\n",
    "# from FuzzyWuzzy import fuzz\n",
    "# from FuzzyWuzzy import process\n",
    "\n",
    "from threading import Thread, current_thread\n",
    "from multiprocessing import Process, current_process, Queue, Pool, Manager\n",
    "import threading\n",
    "import sys"
   ]
  },
  {
   "cell_type": "code",
   "execution_count": 2,
   "metadata": {},
   "outputs": [],
   "source": [
    "# browser = webdriver.Chrome()\n",
    "browser = webdriver.Firefox(executable_path='C:/Users/utilisateur/OneDrive - SIMPLON.CO/Simplon/geckodriver.exe')\n",
    "browser.get('https://www.tripadvisor.fr/Hotels-g187147-Paris_Ile_de_France-Hotels.html')"
   ]
  },
  {
   "cell_type": "code",
   "execution_count": 16,
   "metadata": {},
   "outputs": [
    {
     "data": {
      "text/plain": [
       "'Le_Royal_Monceau_Raffles_Paris'"
      ]
     },
     "execution_count": 16,
     "metadata": {},
     "output_type": "execute_result"
    }
   ],
   "source": [
    "url='https://www.tripadvisor.fr/Hotel_Review-g187147-d197528-Reviews-Le_Royal_Monceau_Raffles_Paris-Paris_Ile_de_France.html'\n",
    "url[64:-25]"
   ]
  },
  {
   "cell_type": "code",
   "execution_count": 3,
   "metadata": {},
   "outputs": [
    {
     "name": "stdout",
     "output_type": "stream",
     "text": [
      "2\n",
      "Message: The element reference of <a class=\"nav next ui_button primary  cx_brand_refresh_phase2\" href=\"/Hotels-g187147-oa60-Paris_Ile_de_France-Hotels.html#BODYCON\"> is stale; either the element is no longer attached to the DOM, it is not in the current frame context, or the document has been refreshed\n",
      "\n",
      "13\n",
      "Message: The element reference of <a class=\"nav next ui_button primary  cx_brand_refresh_phase2\" href=\"/Hotels-g187147-oa360-Paris_Ile_de_France-Hotels.html#BODYCON\"> is stale; either the element is no longer attached to the DOM, it is not in the current frame context, or the document has been refreshed\n",
      "\n"
     ]
    }
   ],
   "source": [
    "#%%time\n",
    "reviews= {'hotel':[],'commentaire' : [], 'note': []}\n",
    "page = 0\n",
    "while True:\n",
    "    try:\n",
    "        page += 1\n",
    "        container = browser.find_elements_by_class_name('location-review-review-list-parts-RatingLine__bubbles--GcJvM')\n",
    "        \n",
    "        for j in range(len(container)):\n",
    "            container = browser.find_elements_by_class_name('location-review-review-list-parts-RatingLine__bubbles--GcJvM')\n",
    "            rating_a = container[j].find_elements_by_xpath(\".//span[contains(@class, 'ui_bubble_rating bubble_')]\")\n",
    "            for nt in rating_a:\n",
    "        #         print(nt)\n",
    "                rating_b1=nt.get_attribute(\"class\")\n",
    "#                 print(rating_b1)\n",
    "                rating_b2 = rating_b1.split(\"_\")\n",
    "                rating = rating_b2[3]\n",
    "                if rating is not None:\n",
    "                    reviews['note'].append(rating)\n",
    "                else:\n",
    "                    reviews['note'].append(\"unknown-rating\")\n",
    "            \n",
    "            time.sleep(1)\n",
    "            #scrapping comments\n",
    "        scrap_review= browser.find_elements_by_css_selector('.location-review-review-list-parts-ExpandableReview__reviewText--gOmRC span')\n",
    "        for el in scrap_review:\n",
    "            reviews['commentaire'].append(el.text)\n",
    "            reviews['hotel'].append('Novotel Paris Les Halles')\n",
    "        arrow = browser.find_element_by_xpath(\"//*[text() = 'Suivant']\").click()\n",
    "        time.sleep(3)\n",
    "    \n",
    "    except StaleElementReferenceException as e:\n",
    "            print(page)\n",
    "            print(e)\n",
    "#     except NoSuchElementException :\n",
    "#         browser.close()\n",
    "    except ElementClickInterceptedException:\n",
    "#         browser.close()\n",
    "        break\n",
    "\n",
    "reviews['commentaire']=[reviews['commentaire'][i] for i in range(len(reviews['note']))]\n",
    "reviews['hotel']=[reviews['hotel'][i] for i in range(len(reviews['note']))]\n",
    "reviews = pd.DataFrame(reviews)\n",
    "reviews.to_csv('reviewsF.csv')"
   ]
  },
  {
   "cell_type": "code",
   "execution_count": null,
   "metadata": {},
   "outputs": [],
   "source": []
  }
 ],
 "metadata": {
  "kernelspec": {
   "display_name": "Python 3",
   "language": "python",
   "name": "python3"
  },
  "language_info": {
   "codemirror_mode": {
    "name": "ipython",
    "version": 3
   },
   "file_extension": ".py",
   "mimetype": "text/x-python",
   "name": "python",
   "nbconvert_exporter": "python",
   "pygments_lexer": "ipython3",
   "version": "3.7.4"
  }
 },
 "nbformat": 4,
 "nbformat_minor": 4
}
